{
 "cells": [
  {
   "cell_type": "code",
   "execution_count": 19,
   "metadata": {},
   "outputs": [],
   "source": [
    "# Import necessary packages\n",
    "from __future__ import print_function\n",
    "import pathlib\n",
    "from pathlib import Path\n",
    "import os\n",
    "import sys\n",
    "import cv2\n",
    "import numpy as np\n",
    "from PIL import Image\n",
    "import csv\n",
    "import shutil\n",
    "import random\n",
    "import glob"
   ]
  },
  {
   "cell_type": "code",
   "execution_count": 37,
   "metadata": {},
   "outputs": [],
   "source": [
    "#make file alias to make my life easier\n",
    "path = Path('/Users/masterambassador/Slitherin/Celeb Images/cimages')"
   ]
  },
  {
   "cell_type": "code",
   "execution_count": 38,
   "metadata": {},
   "outputs": [
    {
     "data": {
      "text/plain": [
       "[PosixPath('/Users/masterambassador/Slitherin/Celeb Images/cimages/000004.jpg'),\n",
       " PosixPath('/Users/masterambassador/Slitherin/Celeb Images/cimages/000005.jpg'),\n",
       " PosixPath('/Users/masterambassador/Slitherin/Celeb Images/cimages/000001.jpg'),\n",
       " PosixPath('/Users/masterambassador/Slitherin/Celeb Images/cimages/000002.jpg'),\n",
       " PosixPath('/Users/masterambassador/Slitherin/Celeb Images/cimages/000003.jpg')]"
      ]
     },
     "execution_count": 38,
     "metadata": {},
     "output_type": "execute_result"
    }
   ],
   "source": [
    "list(path.glob('*.jpg'))"
   ]
  },
  {
   "cell_type": "code",
   "execution_count": 39,
   "metadata": {},
   "outputs": [
    {
     "name": "stdout",
     "output_type": "stream",
     "text": [
      "/Users/masterambassador/Slitherin/Celeb Images/cimages\n"
     ]
    }
   ],
   "source": [
    "print(path)"
   ]
  },
  {
   "cell_type": "code",
   "execution_count": 40,
   "metadata": {},
   "outputs": [],
   "source": [
    "##############################################################################\n",
    "#Create data matrix from a list of images\n",
    "#Allocate space for all images in one data matrix.\n",
    "#w = width of an image in the dataset.\n",
    "#h = height of an image in the dataset.\n",
    "#3 is for the 3 color channels.\n",
    "############################################################################\n",
    "\n",
    "def createDataMatrix(path):\n",
    "    print(\"Creating data matrix\",end=\" ... \") \n",
    "#This function counts the number of pictures in the directory\n",
    "    numImages = len(path)\n",
    "    sz = path[0].shape\n",
    "    data = np.zeros((numImages, sz[0] * sz[1] * sz[2]), dtype=np.float32)\n",
    "    for i in range(0, numImages):\n",
    "        image = images[i].flatten()\n",
    "        data[i,:] = image\n",
    "    \n",
    "    print(\"DONE\")\n",
    "    return data"
   ]
  },
  {
   "cell_type": "code",
   "execution_count": 46,
   "metadata": {},
   "outputs": [],
   "source": [
    "#Eigen step 1 -Run this piece of code first in the series after testing your dependencies and files\n",
    "# Read images from the directory \n",
    "def readImages(path):\n",
    "    print(\"Reading images from \" + path, end=\"...\")\n",
    "\n",
    "    # Create array of array of images.  \n",
    "    images = []\n",
    "    # List all files in the directory and read points from text files one by one\n",
    "    for filePath in sorted(os.listdir(path)):\n",
    "        fileExt = os.path.splitext(filePath)[1]\n",
    "        print(fileExt)\n",
    "        print(filePath)\n",
    "        if fileExt in [\".jpg\", \".jpeg\"]:\n",
    "\n",
    "            # Add to array of images\n",
    "            imagePath = os.path.join(path, filePath)\n",
    "            im = cv2.imread(imagePath) #This is how OpenCV opens image files\n",
    "            print(im)\n",
    "\n",
    "            if im is None:\n",
    "                print(\"image:{} not read properly\".format(imagePath))\n",
    "            else:\n",
    "\n",
    "                # Convert image to floating point\n",
    "                im = np.float32(im)/255.0\n",
    "                images.append(im) # Add image to list\n",
    "                imFlip = cv2.flip(im, 1);# Flip image \n",
    "                images.append(imFlip)# Append flipped image to dictionary\n",
    "\n",
    "    numImages = int(len(images) / 2)# Exit if no image found\n",
    "    if numImages == 0 :\n",
    "        print(\"No images found\")\n",
    "        sys.exit(0)\n",
    "\n",
    "    print(str(numImages) + \" files read.\")\n",
    "    return images"
   ]
  },
  {
   "cell_type": "code",
   "execution_count": null,
   "metadata": {},
   "outputs": [],
   "source": [
    "#Eigen step 2\n",
    "#this is how the interpreter notes that this is to be run first is the main code\n",
    "if __name__ == '__main__': \n",
    "\n",
    "    # Number of EigenFaces\n",
    "    NUM_EIGEN_FACES = 10\n",
    "\n",
    "    # Maximum weight\n",
    "    MAX_SLIDER_VALUE = 255\n",
    "\n",
    "    # Directory containing images\n",
    "    dirName = ''\n",
    " \n",
    "    # Read images\n",
    "    images = readImages(dirName)\n",
    "    #images = cv2.imread(imgdr)\n",
    "    \n",
    "    # Size of images\n",
    "    sz = np.size(images)\n",
    "    #sz = np.array(images)\n",
    "    #sz = images[0].shape   \n",
    "    \n",
    "    # Create data matrix for PCA.\n",
    "    data = createDataMatrix(images)\n",
    "\n",
    "    # Compute the eigenvectors from the stack of images created\n",
    "    print(\"Calculating PCA \", end=\"...\")\n",
    "    mean, eigenVectors = cv2.PCACompute(data, mean=None, maxComponents=NUM_EIGEN_FACES)\n",
    "    print (\"DONE\")\n",
    "\n",
    "    averageFace = mean.reshape(sz)\n",
    "\n",
    "    eigenFaces = []; \n",
    "\n",
    "    for eigenVector in eigenVectors:\n",
    "        eigenFace = eigenVector.reshape(sz)\n",
    "        eigenFaces.append(eigenFace)\n",
    "\n",
    "    # Create window for displaying Mean Face\n",
    "    cv2.namedWindow(\"Result\", cv2.WINDOW_AUTOSIZE)\n",
    "    \n",
    "    # Display result at 2x size\n",
    "    output = cv2.resize(averageFace, (0,0), fx=2, fy=2)\n",
    "    cv2.imshow(\"Result\", output)\n",
    "\n",
    "    # Create Window for trackbars\n",
    "    cv2.namedWindow(\"Trackbars\", cv2.WINDOW_AUTOSIZE)\n",
    "\n",
    "    sliderValues = []\n",
    "    \n",
    "    # Create Trackbars\n",
    "    for i in range(0, NUM_EIGEN_FACES):\n",
    "        sliderValues.append(int(MAX_SLIDER_VALUE/2))\n",
    "        cv2.createTrackbar( \"Weight\" + str(i), \"Trackbars\", int(MAX_SLIDER_VALUE/2), MAX_SLIDER_VALUE, createNewFace)\n",
    "    \n",
    "    # You can reset the sliders by clicking on the mean image.\n",
    "    cv2.setMouseCallback(\"Result\", resetSliderValues);\n",
    "    \n",
    "    print('''Usage: Change the weights using the sliders, Click on the result window to reset sliders, Hit ESC to terminate program.''')\n",
    "\n",
    "    cv2.waitKey(0)\n",
    "    cv2.destroyAllWindows()"
   ]
  },
  {
   "cell_type": "markdown",
   "metadata": {},
   "source": [
    "The special syntax *args in function definitions in python is used to pass a variable number of arguments to a function. ... For example : we want to make a multiply function that takes any number of arguments and able to multiply them all together. It can be done using *args."
   ]
  },
  {
   "cell_type": "code",
   "execution_count": null,
   "metadata": {},
   "outputs": [],
   "source": [
    "# Add the weighted eigen faces to the mean face \n",
    "def createNewFace(*args):\n",
    "    # Start with the mean image\n",
    "    output = averageFace\n",
    "    \n",
    "    # Add the eigen faces with the weights\n",
    "    for i in range(0, NUM_EIGEN_FACES):\n",
    "        #OpenCV does not allow slider values to be negative. \n",
    "        #So we use weight = sliderValue - MAX_SLIDER_VALUE / 2\n",
    "         \n",
    "        sliderValues[i] = cv2.getTrackbarPos(\"Weight\" + str(i), \"Trackbars\");\n",
    "        weight = sliderValues[i] - MAX_SLIDER_VALUE/2\n",
    "        output = np.add(output, eigenFaces[i] * weight)\n",
    "\n",
    "    # Display Result at 2x size\n",
    "    output = cv2.resize(output, (0,0), fx=2, fy=2)\n",
    "    cv2.imshow(\"Result\", output)\n",
    "\n",
    "def resetSliderValues(*args):\n",
    "    for i in range(0, NUM_EIGEN_FACES):\n",
    "        cv2.setTrackbarPos(\"Weight\" + str(i), \"Trackbars\", int(MAX_SLIDER_VALUE/2));\n",
    "    createNewFace()"
   ]
  },
  {
   "cell_type": "code",
   "execution_count": null,
   "metadata": {},
   "outputs": [],
   "source": []
  }
 ],
 "metadata": {
  "kernelspec": {
   "display_name": "Python 3",
   "language": "python",
   "name": "python3"
  },
  "language_info": {
   "codemirror_mode": {
    "name": "ipython",
    "version": 3
   },
   "file_extension": ".py",
   "mimetype": "text/x-python",
   "name": "python",
   "nbconvert_exporter": "python",
   "pygments_lexer": "ipython3",
   "version": "3.7.2"
  }
 },
 "nbformat": 4,
 "nbformat_minor": 2
}
